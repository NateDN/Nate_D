{
  "nbformat": 4,
  "nbformat_minor": 0,
  "metadata": {
    "colab": {
      "provenance": [],
      "authorship_tag": "ABX9TyN7YxgurlLzVL4hz74vBy7b",
      "include_colab_link": true
    },
    "kernelspec": {
      "name": "python3",
      "display_name": "Python 3"
    },
    "language_info": {
      "name": "python"
    }
  },
  "cells": [
    {
      "cell_type": "markdown",
      "metadata": {
        "id": "view-in-github",
        "colab_type": "text"
      },
      "source": [
        "<a href=\"https://colab.research.google.com/github/NateDN/Nate_D/blob/main/Atividade_02_em_Python.ipynb\" target=\"_parent\"><img src=\"https://colab.research.google.com/assets/colab-badge.svg\" alt=\"Open In Colab\"/></a>"
      ]
    },
    {
      "cell_type": "markdown",
      "source": [
        "#Construa um algoritmo onde o usuário ira precisar responder 4 questões matemáticas.\n",
        "\n",
        "Atividade 2\n"
      ],
      "metadata": {
        "id": "pCMbpf7Rs2S6"
      }
    },
    {
      "cell_type": "code",
      "source": [
        "# Algoritmo de Prova Matemática\n",
        "# Critérios: 4 questões, até 3 tentativas, mínimo 75% (3 acertos)\n",
        "\n",
        "perguntas = [\n",
        "    (\"Quanto é 5 + 3? \", 8),\n",
        "    (\"Quanto é 9 - 4? \", 5),\n",
        "    (\"Quanto é 6 * 2? \", 12),\n",
        "    (\"Quanto é 15 / 3? \", 5)\n",
        "]\n",
        "\n",
        "tentativas = 0\n",
        "aprovado = False\n",
        "\n",
        "while tentativas < 3 and not aprovado:\n",
        "    acertos = 0\n",
        "    print(f\"\\nTentativa {tentativas + 1}:\")\n",
        "\n",
        "    for pergunta, resposta_certa in perguntas:\n",
        "        resposta = int(input(pergunta))\n",
        "        if resposta == resposta_certa:\n",
        "            acertos += 1\n",
        "\n",
        "    if acertos >= 3:  # 75% de 4 questões = 3\n",
        "        aprovado = True\n",
        "        print(f\"\\n C Você acertou {acertos}/4. PARABÉNS, foi APROVADO!\")\n",
        "    else:\n",
        "        print(f\"\\n X Você acertou {acertos}/4. Tente novamente.\")\n",
        "        tentativas += 1\n",
        "\n",
        "if not aprovado:\n",
        "    print(\"\\n X Você atingiu o número máximo de tentativas. REPROVADO.\")\n"
      ],
      "metadata": {
        "colab": {
          "base_uri": "https://localhost:8080/"
        },
        "id": "fs3s6ZgVsECw",
        "outputId": "7d9cfad0-f8f6-40af-f13b-ca870458c226"
      },
      "execution_count": 1,
      "outputs": [
        {
          "output_type": "stream",
          "name": "stdout",
          "text": [
            "\n",
            "Tentativa 1:\n",
            "Quanto é 5 + 3? 8\n",
            "Quanto é 9 - 4? 5\n",
            "Quanto é 6 * 2? 12\n",
            "Quanto é 15 / 3? 5\n",
            "\n",
            " C Você acertou 4/4. PARABÉNS, foi APROVADO!\n"
          ]
        }
      ]
    }
  ]
}