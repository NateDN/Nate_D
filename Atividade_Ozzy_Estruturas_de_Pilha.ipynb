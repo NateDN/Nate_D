{
  "nbformat": 4,
  "nbformat_minor": 0,
  "metadata": {
    "colab": {
      "provenance": [],
      "authorship_tag": "ABX9TyO7A1ZRAKP6aJqPHPaH3spe",
      "include_colab_link": true
    },
    "kernelspec": {
      "name": "python3",
      "display_name": "Python 3"
    },
    "language_info": {
      "name": "python"
    }
  },
  "cells": [
    {
      "cell_type": "markdown",
      "metadata": {
        "id": "view-in-github",
        "colab_type": "text"
      },
      "source": [
        "<a href=\"https://colab.research.google.com/github/NateDN/Nate_D/blob/main/Atividade_Ozzy_Estruturas_de_Pilha.ipynb\" target=\"_parent\"><img src=\"https://colab.research.google.com/assets/colab-badge.svg\" alt=\"Open In Colab\"/></a>"
      ]
    },
    {
      "cell_type": "code",
      "execution_count": null,
      "metadata": {
        "colab": {
          "base_uri": "https://localhost:8080/"
        },
        "id": "PdFO6P3astJh",
        "outputId": "20e7174a-6a0d-4d03-cf57-a7e538204611"
      },
      "outputs": [
        {
          "metadata": {
            "tags": null
          },
          "name": "stdout",
          "output_type": "stream",
          "text": [
            "\n",
            "===== MENU DA PILHA =====\n",
            "1 - Empilhar elemento\n",
            "2 - Desempilhar elemento\n",
            "3 - Listar elementos\n",
            "4 - Limpar pilha\n",
            "5 - Verificar se pilha está vazia\n",
            "0 - Sair\n"
          ]
        }
      ],
      "source": [
        "# -------------------------------\n",
        "# Implementação da Estrutura de Pilha (LIFO)\n",
        "# -------------------------------\n",
        "\n",
        "# Estrutura homogênea com tamanho fixo\n",
        "TAMANHO_MAX = 20\n",
        "pilha = [None] * TAMANHO_MAX  # cria lista com 20 posições vazias\n",
        "topo = -1  # índice do topo da pilha (-1 = pilha vazia)\n",
        "\n",
        "\n",
        "# -------------------------------\n",
        "# Funções da Pilha\n",
        "# -------------------------------\n",
        "\n",
        "def empilhar(elemento):\n",
        "    global topo #topo controla a posição do último elemento inserido.\n",
        "    if topo >= TAMANHO_MAX - 1:\n",
        "        print(\"Erro: Pilha cheia! Não é possível empilhar mais elementos.\")\n",
        "    else:\n",
        "        topo += 1\n",
        "        pilha[topo] = elemento\n",
        "        print(f\" '{elemento}' empilhado com sucesso!\")\n",
        "\n",
        "def desempilhar():\n",
        "    global topo\n",
        "    if topo == -1:\n",
        "        print(\"Erro: Pilha vazia! Não há elementos para desempilhar.\")\n",
        "    else:\n",
        "        elemento = pilha[topo]\n",
        "        pilha[topo] = None  # remove visualmente o elemento\n",
        "        topo -= 1\n",
        "        print(f\" '{elemento}' removido (desempilhado) com sucesso!\")\n",
        "        return elemento\n",
        "\n",
        "\n",
        "def limpar():\n",
        "    global topo\n",
        "    if topo == -1:\n",
        "        print(\"A pilha já está vazia.\")\n",
        "    else:\n",
        "        for i in range(topo + 1):\n",
        "            pilha[i] = None\n",
        "        topo = -1\n",
        "        print(\"Pilha limpa com sucesso!\")\n",
        "\n",
        "\n",
        "def listar():\n",
        "    if topo == -1:\n",
        "        print(\"Pilha vazia! Nada a listar.\")\n",
        "    else:\n",
        "        print(\"\\n Elementos da pilha (do topo para a base):\")\n",
        "        for i in range(topo, -1, -1):\n",
        "            print(f\"[{i}] {pilha[i]}\")\n",
        "\n",
        "\n",
        "def vazia():\n",
        "    return topo == -1\n",
        "\n",
        "\n",
        "# -------------------------------\n",
        "# Menu principal para testar a Pilha\n",
        "# -------------------------------\n",
        "def menu():\n",
        "    while True:\n",
        "        print(\"\\n===== MENU DA PILHA =====\")\n",
        "        print(\"1 - Empilhar elemento\")\n",
        "        print(\"2 - Desempilhar elemento\")\n",
        "        print(\"3 - Listar elementos\")\n",
        "        print(\"4 - Limpar pilha\")\n",
        "        print(\"5 - Verificar se pilha está vazia\")\n",
        "        print(\"0 - Sair\")\n",
        "        opcao = input(\"Escolha uma opção: \").strip()\n",
        "\n",
        "        if opcao == \"1\":\n",
        "            elemento = input(\"Digite o elemento a empilhar: \").strip()\n",
        "            empilhar(elemento)\n",
        "        elif opcao == \"2\":\n",
        "            desempilhar()\n",
        "        elif opcao == \"3\":\n",
        "            listar()\n",
        "        elif opcao == \"4\":\n",
        "            limpar()\n",
        "        elif opcao == \"5\":\n",
        "            if vazia():\n",
        "                print(\"A pilha está vazia.\")\n",
        "            else:\n",
        "                print(\"A pilha contém elementos.\")\n",
        "        elif opcao == \"0\":\n",
        "            print(\"Saindo do sistema...\")\n",
        "            break\n",
        "        else:\n",
        "            print(\"Opção inválida. Tente novamente.\")\n",
        "\n",
        "\n",
        "# -------------------------------\n",
        "# Execução do programa\n",
        "# -------------------------------\n",
        "if __name__ == \"__main__\":\n",
        "    menu()\n"
      ]
    }
  ]
}